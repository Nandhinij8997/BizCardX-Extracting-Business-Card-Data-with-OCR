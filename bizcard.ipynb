{
 "cells": [
  {
   "cell_type": "code",
   "execution_count": 3,
   "metadata": {},
   "outputs": [
    {
     "name": "stderr",
     "output_type": "stream",
     "text": [
      "2024-12-08 13:48:13.669 WARNING streamlit.runtime.scriptrunner_utils.script_run_context: Thread 'MainThread': missing ScriptRunContext! This warning can be ignored when running in bare mode.\n"
     ]
    }
   ],
   "source": [
    "import streamlit as st\n",
    "from streamlit_option_menu import option_menu\n",
    "import easyocr\n",
    "from PIL import Image\n",
    "import pandas as pd\n",
    "import numpy as np\n",
    "import re\n",
    "import io\n",
    "import sqlite3\n"
   ]
  },
  {
   "cell_type": "code",
   "execution_count": 4,
   "metadata": {},
   "outputs": [],
   "source": [
    "def image_to_text(path):\n",
    "    \n",
    "    input_image = Image.open(path)\n",
    "\n",
    "    #connvert image to array\n",
    "\n",
    "    image_arr = np.array(input_image)\n",
    "\n",
    "    reader = easyocr.Reader(['en'])\n",
    "    text = reader.readtext(image_arr, detail=0)\n",
    "    \n",
    "    return text, input_image\n"
   ]
  },
  {
   "cell_type": "code",
   "execution_count": 5,
   "metadata": {},
   "outputs": [
    {
     "name": "stderr",
     "output_type": "stream",
     "text": [
      "Neither CUDA nor MPS are available - defaulting to CPU. Note: This module is much faster with a GPU.\n"
     ]
    }
   ],
   "source": [
    "text_image, input_image = image_to_text(\"C:/GUVI PROJECTS/PHONE PE PULSE/.venv/1.png\")"
   ]
  },
  {
   "cell_type": "code",
   "execution_count": 33,
   "metadata": {},
   "outputs": [
    {
     "name": "stderr",
     "output_type": "stream",
     "text": [
      "Neither CUDA nor MPS are available - defaulting to CPU. Note: This module is much faster with a GPU.\n"
     ]
    }
   ],
   "source": [
    "text_image, input_image = image_to_text(\"C:/GUVI PROJECTS/PHONE PE PULSE/.venv/2.png\")"
   ]
  },
  {
   "cell_type": "code",
   "execution_count": 34,
   "metadata": {},
   "outputs": [
    {
     "name": "stderr",
     "output_type": "stream",
     "text": [
      "Neither CUDA nor MPS are available - defaulting to CPU. Note: This module is much faster with a GPU.\n"
     ]
    }
   ],
   "source": [
    "text_image, input_image = image_to_text(\"C:/GUVI PROJECTS/PHONE PE PULSE/.venv/3.png\")"
   ]
  },
  {
   "cell_type": "code",
   "execution_count": 35,
   "metadata": {},
   "outputs": [
    {
     "name": "stderr",
     "output_type": "stream",
     "text": [
      "Neither CUDA nor MPS are available - defaulting to CPU. Note: This module is much faster with a GPU.\n"
     ]
    }
   ],
   "source": [
    "text_image, input_image = image_to_text(\"C:/GUVI PROJECTS/PHONE PE PULSE/.venv/4.png\")"
   ]
  },
  {
   "cell_type": "code",
   "execution_count": 36,
   "metadata": {},
   "outputs": [
    {
     "name": "stderr",
     "output_type": "stream",
     "text": [
      "Neither CUDA nor MPS are available - defaulting to CPU. Note: This module is much faster with a GPU.\n"
     ]
    }
   ],
   "source": [
    "text_image, input_image = image_to_text(\"C:/GUVI PROJECTS/PHONE PE PULSE/.venv/5.png\")"
   ]
  },
  {
   "cell_type": "code",
   "execution_count": null,
   "metadata": {},
   "outputs": [],
   "source": [
    "input_image"
   ]
  },
  {
   "cell_type": "code",
   "execution_count": 7,
   "metadata": {},
   "outputs": [
    {
     "data": {
      "text/plain": [
       "['Selva',\n",
       " 'DATA MANAGER',\n",
       " '+123-456-7890',\n",
       " '+123-456-7891',\n",
       " 'WWW XYZI.com',\n",
       " 'hello@XYZ1.com',\n",
       " '123 ABC St , Chennai;',\n",
       " 'selva',\n",
       " 'TamilNadu 600113',\n",
       " 'digitals']"
      ]
     },
     "execution_count": 7,
     "metadata": {},
     "output_type": "execute_result"
    }
   ],
   "source": [
    "text_image"
   ]
  },
  {
   "cell_type": "code",
   "execution_count": 8,
   "metadata": {},
   "outputs": [],
   "source": [
    "def extracted_text(texts):\n",
    "    \n",
    "    extracted_dict = {\"NAME\":[], \"DESIGNATION\":[], \"COMPANY_NAME\":[], \"CONTACT\":[],\n",
    "                      \"EMAIL\":[], \"WEBSITE\":[], \"ADDRESS\":[], \"PINCODE\":[]}\n",
    "    extracted_dict[\"NAME\"].append(texts[0])\n",
    "    extracted_dict[\"DESIGNATION\"].append(texts[1])\n",
    "    \n",
    "    for i in range(2,len(texts)):\n",
    "        \n",
    "        if texts[i].startswith(\"+\") or (texts[i].replace(\"-\",\"\").isdigit() and \"-\" in texts[i]):\n",
    "            \n",
    "            extracted_dict[\"CONTACT\"].append(texts[i])\n",
    "            \n",
    "        elif \"@\" in texts[i] and \".com\" in texts[i]:\n",
    "           \n",
    "           extracted_dict[\"EMAIL\"].append(texts[i]) \n",
    "           \n",
    "        elif \"WWW\" in texts[i] or  \"www\" in texts[i] or \"Www\" in texts[i] or  \"wWw\" in texts[i] or \"wwW\" in texts[i]:\n",
    "            \n",
    "            small = texts[i].lower()\n",
    "            extracted_dict[\"WEBSITE\"].append(small)\n",
    "            \n",
    "        elif \"Tamil Nadu\" in texts[i] or \"TamilNadu\" in texts[i] or \"TN\" in texts[i] or texts[i].isdigit():\n",
    "            \n",
    "            extracted_dict[\"PINCODE\"].append(texts[i])\n",
    "            \n",
    "        elif re.match(r'^[A-Za-z]', texts[i]):\n",
    "            \n",
    "            extracted_dict[\"COMPANY_NAME\"].append(texts[i])\n",
    "            \n",
    "        else:\n",
    "            remove_colon = re.sub(r'[,;]', '', texts[i])\n",
    "            extracted_dict[\"ADDRESS\"].append(remove_colon)     \n",
    "            \n",
    "    for key,value in extracted_dict.items():  \n",
    "        #print(key,\":\", value, len(value))     \n",
    "        if len(value)>0:\n",
    "            concadenate = \" \".join(value)\n",
    "            extracted_dict[key] = [concadenate]\n",
    "            \n",
    "        else:\n",
    "            value = \"NA\"\n",
    "            extracted_dict[key] = [value]\n",
    "     \n",
    "    return extracted_dict"
   ]
  },
  {
   "cell_type": "code",
   "execution_count": 9,
   "metadata": {},
   "outputs": [],
   "source": [
    "text_data = extracted_text(text_image)"
   ]
  },
  {
   "cell_type": "code",
   "execution_count": 10,
   "metadata": {},
   "outputs": [
    {
     "data": {
      "text/html": [
       "<div>\n",
       "<style scoped>\n",
       "    .dataframe tbody tr th:only-of-type {\n",
       "        vertical-align: middle;\n",
       "    }\n",
       "\n",
       "    .dataframe tbody tr th {\n",
       "        vertical-align: top;\n",
       "    }\n",
       "\n",
       "    .dataframe thead th {\n",
       "        text-align: right;\n",
       "    }\n",
       "</style>\n",
       "<table border=\"1\" class=\"dataframe\">\n",
       "  <thead>\n",
       "    <tr style=\"text-align: right;\">\n",
       "      <th></th>\n",
       "      <th>NAME</th>\n",
       "      <th>DESIGNATION</th>\n",
       "      <th>COMPANY_NAME</th>\n",
       "      <th>CONTACT</th>\n",
       "      <th>EMAIL</th>\n",
       "      <th>WEBSITE</th>\n",
       "      <th>ADDRESS</th>\n",
       "      <th>PINCODE</th>\n",
       "    </tr>\n",
       "  </thead>\n",
       "  <tbody>\n",
       "    <tr>\n",
       "      <th>0</th>\n",
       "      <td>Selva</td>\n",
       "      <td>DATA MANAGER</td>\n",
       "      <td>selva digitals</td>\n",
       "      <td>+123-456-7890 +123-456-7891</td>\n",
       "      <td>hello@XYZ1.com</td>\n",
       "      <td>www xyzi.com</td>\n",
       "      <td>123 ABC St  Chennai</td>\n",
       "      <td>TamilNadu 600113</td>\n",
       "    </tr>\n",
       "  </tbody>\n",
       "</table>\n",
       "</div>"
      ],
      "text/plain": [
       "    NAME   DESIGNATION    COMPANY_NAME                      CONTACT  \\\n",
       "0  Selva  DATA MANAGER  selva digitals  +123-456-7890 +123-456-7891   \n",
       "\n",
       "            EMAIL       WEBSITE              ADDRESS           PINCODE  \n",
       "0  hello@XYZ1.com  www xyzi.com  123 ABC St  Chennai  TamilNadu 600113  "
      ]
     },
     "execution_count": 10,
     "metadata": {},
     "output_type": "execute_result"
    }
   ],
   "source": [
    "df = pd.DataFrame(text_data)\n",
    "df"
   ]
  },
  {
   "cell_type": "code",
   "execution_count": 11,
   "metadata": {},
   "outputs": [
    {
     "data": {
      "text/html": [
       "<div>\n",
       "<style scoped>\n",
       "    .dataframe tbody tr th:only-of-type {\n",
       "        vertical-align: middle;\n",
       "    }\n",
       "\n",
       "    .dataframe tbody tr th {\n",
       "        vertical-align: top;\n",
       "    }\n",
       "\n",
       "    .dataframe thead th {\n",
       "        text-align: right;\n",
       "    }\n",
       "</style>\n",
       "<table border=\"1\" class=\"dataframe\">\n",
       "  <thead>\n",
       "    <tr style=\"text-align: right;\">\n",
       "      <th></th>\n",
       "      <th>NAME</th>\n",
       "      <th>DESIGNATION</th>\n",
       "      <th>COMPANY_NAME</th>\n",
       "      <th>CONTACT</th>\n",
       "      <th>EMAIL</th>\n",
       "      <th>WEBSITE</th>\n",
       "      <th>ADDRESS</th>\n",
       "      <th>PINCODE</th>\n",
       "      <th>IMAGE</th>\n",
       "    </tr>\n",
       "  </thead>\n",
       "  <tbody>\n",
       "    <tr>\n",
       "      <th>0</th>\n",
       "      <td>Selva</td>\n",
       "      <td>DATA MANAGER</td>\n",
       "      <td>selva digitals</td>\n",
       "      <td>+123-456-7890 +123-456-7891</td>\n",
       "      <td>hello@XYZ1.com</td>\n",
       "      <td>www xyzi.com</td>\n",
       "      <td>123 ABC St  Chennai</td>\n",
       "      <td>TamilNadu 600113</td>\n",
       "      <td>b'\\x89PNG\\r\\n\\x1a\\n\\x00\\x00\\x00\\rIHDR\\x00\\x00\\...</td>\n",
       "    </tr>\n",
       "  </tbody>\n",
       "</table>\n",
       "</div>"
      ],
      "text/plain": [
       "    NAME   DESIGNATION    COMPANY_NAME                      CONTACT  \\\n",
       "0  Selva  DATA MANAGER  selva digitals  +123-456-7890 +123-456-7891   \n",
       "\n",
       "            EMAIL       WEBSITE              ADDRESS           PINCODE  \\\n",
       "0  hello@XYZ1.com  www xyzi.com  123 ABC St  Chennai  TamilNadu 600113   \n",
       "\n",
       "                                               IMAGE  \n",
       "0  b'\\x89PNG\\r\\n\\x1a\\n\\x00\\x00\\x00\\rIHDR\\x00\\x00\\...  "
      ]
     },
     "execution_count": 11,
     "metadata": {},
     "output_type": "execute_result"
    }
   ],
   "source": [
    "# converting image to bytes\n",
    "\n",
    "Image_bytes = io.BytesIO()\n",
    "input_image.save(Image_bytes, format= \"PNG\")\n",
    "\n",
    "image_data = Image_bytes.getvalue()\n",
    "image_data\n",
    "\n",
    "\n",
    "#creating dictionary\n",
    "\n",
    "data = {\"IMAGE\":[image_data]}\n",
    "data\n",
    "\n",
    "df_1 = pd.DataFrame(data)\n",
    "\n",
    "concat_df = pd.concat([df,df_1], axis=1)\n",
    "concat_df"
   ]
  },
  {
   "cell_type": "code",
   "execution_count": 12,
   "metadata": {},
   "outputs": [],
   "source": [
    "# sql connection\n",
    "\n",
    "mydb = sqlite3.connect(\"bizcardx.db\")\n",
    "cursor = mydb.cursor()\n",
    "\n",
    "#Table creation\n",
    "\n",
    "create_table_query = '''CREATE TABLE IF NOT EXISTS bizcardx_details(name VARCHAR(255),\n",
    "                                                                    designation VARCHAR(255),\n",
    "                                                                    company_name VARCHAR(255),\n",
    "                                                                    contact VARCHAR(255),\n",
    "                                                                    email VARCHAR(255),\n",
    "                                                                    website TEXT,\n",
    "                                                                    address TEXT,\n",
    "                                                                    pincode VARCHAR(255),\n",
    "                                                                    image text)'''\n",
    "                                                                    \n",
    "cursor.execute(create_table_query)\n",
    "mydb.commit()"
   ]
  },
  {
   "cell_type": "code",
   "execution_count": 13,
   "metadata": {},
   "outputs": [],
   "source": [
    "#insert queries\n",
    "\n",
    "insert_query = '''INSERT INTO bizcardx_details(name, designation, company_name, contact, email, \n",
    "                                               website, address, pincode, image )\n",
    "                                               \n",
    "                                               VALUES(?,?,?,?,?,?,?,?,?)'''\n",
    "                                            \n",
    "datas = concat_df.values.tolist()[0]\n",
    "cursor.execute(insert_query, datas)\n",
    "mydb.commit()\n",
    "                                               \n",
    "                                               "
   ]
  },
  {
   "cell_type": "code",
   "execution_count": 17,
   "metadata": {},
   "outputs": [
    {
     "data": {
      "text/plain": [
       "['Selva',\n",
       " 'SANTHOSH',\n",
       " 'SANTHOSH',\n",
       " 'SANTHOSH',\n",
       " 'SANTHOSH',\n",
       " 'Selva',\n",
       " 'Selva',\n",
       " 'Selva']"
      ]
     },
     "execution_count": 17,
     "metadata": {},
     "output_type": "execute_result"
    }
   ],
   "source": [
    "#select query \n",
    "\n",
    "mydb = sqlite3.connect(\"bizcardx.db\")\n",
    "cursor = mydb.cursor()\n",
    "\n",
    "select_query = \"SELECT NAME FROM bizcardx_details\"\n",
    "\n",
    "cursor.execute(select_query)\n",
    "table1 = cursor.fetchall()\n",
    "mydb.commit()\n",
    "\n",
    "names = []\n",
    "\n",
    "for i in table1:\n",
    "    names.append(i[0])\n",
    "    \n",
    "names"
   ]
  }
 ],
 "metadata": {
  "kernelspec": {
   "display_name": ".venv",
   "language": "python",
   "name": "python3"
  },
  "language_info": {
   "codemirror_mode": {
    "name": "ipython",
    "version": 3
   },
   "file_extension": ".py",
   "mimetype": "text/x-python",
   "name": "python",
   "nbconvert_exporter": "python",
   "pygments_lexer": "ipython3",
   "version": "3.12.2"
  }
 },
 "nbformat": 4,
 "nbformat_minor": 2
}
